{
  "nbformat": 4,
  "nbformat_minor": 0,
  "metadata": {
    "colab": {
      "name": "TXT Leech Bot",
      "private_outputs": true,
      "provenance": [],
      "collapsed_sections": []
    },
    "kernelspec": {
      "name": "python3",
      "display_name": "Python 3"
    },
    "language_info": {
      "name": "python"
    }
  },
  "cells": [
    {
      "cell_type": "markdown",
      "source": [
        "# TXT Leech Bot\n",
        "Run your Telegram bot in Google Colab"
      ],
      "metadata": {
        "id": "view-in-github"
      }
    },
    {
      "cell_type": "code",
      "source": [
        "#@title Clone Repository and Install Requirements\n",
        "!git clone https://github.com/YOUR_GITHUB_USERNAME/YOUR_REPO_NAME\n",
        "%cd YOUR_REPO_NAME\n",
        "!pip install -r requirements.txt"
      ],
      "metadata": {
        "id": "setup"
      },
      "execution_count": null,
      "outputs": []
    },
    {
      "cell_type": "code",
      "source": [
        "#@title Enter Your Credentials\n",
        "API_ID = \"\" #@param {type:\"string\"}\n",
        "API_HASH = \"\" #@param {type:\"string\"}\n",
        "BOT_TOKEN = \"\" #@param {type:\"string\"}\n",
        "\n",
        "with open('vars.py', 'w') as f:\n",
        "    f.write(f'''\n",
        "API_ID = \"{API_ID}\"\n",
        "API_HASH = \"{API_HASH}\"\n",
        "BOT_TOKEN = \"{BOT_TOKEN}\"\n",
        "''')"
      ],
      "metadata": {
        "id": "credentials"
      },
      "execution_count": null,
      "outputs": []
    },
    {
      "cell_type": "code",
      "source": [
        "#@title Run Bot\n",
        "!python3 main.py"
      ],
      "metadata": {
        "id": "run-bot"
      },
      "execution_count": null,
      "outputs": []
    }
  ]
}