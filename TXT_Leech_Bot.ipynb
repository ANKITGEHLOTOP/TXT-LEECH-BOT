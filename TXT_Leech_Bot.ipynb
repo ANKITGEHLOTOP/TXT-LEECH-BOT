{
  "nbformat": 4,
  "nbformat_minor": 0,
  "metadata": {
    "colab": {
      "name": "TXT Leech Bot",
      "private_outputs": true,
      "provenance": [],
      "collapsed_sections": []
    },
    "kernelspec": {
      "name": "python3",
      "display_name": "Python 3"
    },
    "language_info": {
      "name": "python"
    }
  },
  "cells": [
    {
      "cell_type": "markdown",
      "source": [
        "# TXT Leech Bot\n",
        "Run your Telegram bot in Google Colab"
      ],
      "metadata": {
        "id": "view-in-github"
      }
    },
    {
      "cell_type": "code",
      "source": [
        "#@title Setup Environment and Install Requirements\n",
        "!apt-get update && apt-get install -y ffmpeg aria2\n",
        "!pip install -r requirements.txt"
      ],
      "metadata": {
        "id": "setup"
      },
      "execution_count": null,
      "outputs": []
    },
    {
      "cell_type": "code",
      "source": [
        "#@title Enter Your Credentials\n",
        "API_ID = \"\" #@param {type:\"string\"}\n",
        "API_HASH = \"\" #@param {type:\"string\"}\n",
        "BOT_TOKEN = \"\" #@param {type:\"string\"}\n",
        "\n",
        "# Create necessary files\n",
        "!mkdir -p /content/bot\n",
        "%cd /content/bot\n",
        "\n",
        "# Create vars.py\n",
        "with open('vars.py', 'w') as f:\n",
        "    f.write(f'''\n",
        "API_ID = \"{API_ID}\"\n",
        "API_HASH = \"{API_HASH}\"\n",
        "BOT_TOKEN = \"{BOT_TOKEN}\"\n",
        "''')\n",
        "\n",
        "# Create main.py\n",
        "with open('main.py', 'w') as f:\n",
        "    f.write('''\n",
        "import os\n",
        "import re\n",
        "import sys\n",
        "import json\n",
        "import time\n",
        "import asyncio\n",
        "import requests\n",
        "import subprocess\n",
        "from pyromod import listen\n",
        "from subprocess import getstatusoutput\n",
        "from pyrogram import Client, filters\n",
        "from pyrogram.types import Message\n",
        "from pyrogram.errors import FloodWait\n",
        "from pyrogram.types import InlineKeyboardButton, InlineKeyboardMarkup\n",
        "import m3u8\n",
        "from Cryptodome.Cipher import AES\n",
        "import base64\n",
        "from vars import API_ID, API_HASH, BOT_TOKEN\n",
        "\n",
        "bot = Client(\n",
        "    \"bot\",\n",
        "    api_id=API_ID,\n",
        "    api_hash=API_HASH,\n",
        "    bot_token=BOT_TOKEN\n",
        ")\n",
        "\n",
        "@bot.on_message(filters.command(\"start\"))\n",
        "async def start_message(client, message):\n",
        "    await message.reply_text(\n",
        "        \"Hello! I am a TXT Leech Bot.\\n\\n\"\n",
        "        \"I can download videos from text files containing links.\\n\"\n",
        "        \"Send /help to know more about how to use me.\"\n",
        "    )\n",
        "\n",
        "@bot.on_message(filters.command(\"help\"))\n",
        "async def help_message(client, message):\n",
        "    await message.reply_text(\n",
        "        \"How to use me:\\n\\n\"\n",
        "        \"1. Send me a text file containing video links\\n\"\n",
        "        \"2. Use /upload command to start downloading\\n\"\n",
        "        \"3. Use /stop to cancel ongoing process\\n\\n\"\n",
        "        \"For support, contact @JOHN_FR34K\"\n",
        "    )\n",
        "\n",
        "@bot.on_message(filters.command(\"upload\"))\n",
        "async def upload_file(client, message):\n",
        "    try:\n",
        "        if not message.reply_to_message:\n",
        "            await message.reply_text(\"Please reply to a text file containing links!\")\n",
        "            return\n",
        "        \n",
        "        if not message.reply_to_message.document:\n",
        "            await message.reply_text(\"Please reply to a text file!\")\n",
        "            return\n",
        "            \n",
        "        if not message.reply_to_message.document.file_name.endswith('.txt'):\n",
        "            await message.reply_text(\"Please reply to a text file!\")\n",
        "            return\n",
        "            \n",
        "        msg = await message.reply_text(\"Processing...\")\n",
        "        \n",
        "        file = await message.reply_to_message.download()\n",
        "        links = []\n",
        "        \n",
        "        with open(file, 'r') as f:\n",
        "            links = f.read().splitlines()\n",
        "            \n",
        "        if not links:\n",
        "            await msg.edit(\"No links found in the text file!\")\n",
        "            os.remove(file)\n",
        "            return\n",
        "            \n",
        "        await msg.edit(f\"Found {len(links)} links. Starting download...\")\n",
        "        \n",
        "        for i, link in enumerate(links, 1):\n",
        "            try:\n",
        "                command = f'yt-dlp -f \"b[height<=720]/bv[height<=720]+ba/b/bv+ba\" \"{link}\" -R 25 --fragment-retries 25 --external-downloader aria2c --downloader-args \"aria2c: -x 16 -j 32\"'\n",
        "                os.system(command)\n",
        "                await msg.edit(f\"Downloaded {i}/{len(links)}\")\n",
        "            except Exception as e:\n",
        "                await msg.edit(f\"Error downloading link {i}: {str(e)}\")\n",
        "                continue\n",
        "                \n",
        "        await msg.edit(\"All downloads completed!\")\n",
        "        os.remove(file)\n",
        "        \n",
        "    except Exception as e:\n",
        "        await message.reply_text(f\"An error occurred: {str(e)}\")\n",
        "\n",
        "@bot.on_message(filters.command(\"stop\"))\n",
        "async def stop_process(client, message):\n",
        "    try:\n",
        "        os.system(\"pkill -9 yt-dlp\")\n",
        "        os.system(\"pkill -9 aria2c\")\n",
        "        await message.reply_text(\"All processes stopped!\")\n",
        "    except Exception as e:\n",
        "        await message.reply_text(f\"Error stopping processes: {str(e)}\")\n",
        "\n",
        "bot.run()\n",
        "''')\n",
        "\n",
        "print(\"Files created successfully! Ready to run the bot.\")"
      ],
      "metadata": {
        "id": "credentials"
      },
      "execution_count": null,
      "outputs": []
    },
    {
      "cell_type": "code",
      "source": [
        "#@title Run Bot\n",
        "%cd /content/bot\n",
        "!python3 main.py"
      ],
      "metadata": {
        "id": "run-bot"
      },
      "execution_count": null,
      "outputs": []
    }
  ]
}
